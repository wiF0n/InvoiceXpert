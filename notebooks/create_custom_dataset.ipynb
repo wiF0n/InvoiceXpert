{
 "cells": [
  {
   "cell_type": "markdown",
   "metadata": {},
   "source": [
    "# Custom dataset for InvoiceXpert\n",
    "This dataset is based on subset of [rvl_cdip](https://huggingface.co/datasets/jinhybr/rvl_cdip_400_train_val_test) and [FATURA2 invoice dataset](https://huggingface.co/datasets/mathieu1256/FATURA2-invoices) datasets.\n",
    "It contains 2 classes: `invoice` and `non-invoice`."
   ]
  },
  {
   "cell_type": "code",
   "execution_count": 1,
   "metadata": {},
   "outputs": [],
   "source": [
    "import os\n",
    "import random\n",
    "from collections import Counter\n",
    "\n",
    "import dotenv\n",
    "\n",
    "from datasets import load_dataset, Features, Image, ClassLabel, DatasetDict, concatenate_datasets\n",
    "\n",
    "from src.config import init_config"
   ]
  },
  {
   "cell_type": "markdown",
   "metadata": {},
   "source": [
    "## Config and settings"
   ]
  },
  {
   "cell_type": "code",
   "execution_count": 2,
   "metadata": {},
   "outputs": [],
   "source": [
    "config = init_config()"
   ]
  },
  {
   "cell_type": "code",
   "execution_count": 3,
   "metadata": {},
   "outputs": [
    {
     "name": "stdout",
     "output_type": "stream",
     "text": [
      "data:\n",
      "  fatura: mathieu1256/FATURA2-invoices\n",
      "  rvl_cdip_subset: jinhybr/rvl_cdip_400_train_val_test\n",
      "  invoiceXpert:\n",
      "    hf_path: wiF0n/InvoiceXpert\n",
      "    local_path: data/invoiceXpert\n",
      "    num_labels: 2\n",
      "    label_names:\n",
      "    - invoice\n",
      "    - not-invoice\n",
      "models:\n",
      "  classification:\n",
      "    oob:\n",
      "      pt: microsoft/dit-base\n",
      "      ft: microsoft/dit-base-finetuned-rvlcdip\n",
      "mlflow:\n",
      "  experiments:\n",
      "    classification: invoice-classification\n",
      "utils:\n",
      "  seed: 420\n",
      "  run_date: 2024-03-02/24/24\n",
      "\n"
     ]
    }
   ],
   "source": [
    "print(config)"
   ]
  },
  {
   "cell_type": "code",
   "execution_count": 4,
   "metadata": {},
   "outputs": [],
   "source": [
    "# set random seed\n",
    "random.seed(config.utils.seed)"
   ]
  },
  {
   "cell_type": "code",
   "execution_count": 5,
   "metadata": {},
   "outputs": [
    {
     "data": {
      "text/plain": [
       "True"
      ]
     },
     "execution_count": 5,
     "metadata": {},
     "output_type": "execute_result"
    }
   ],
   "source": [
    "# load dotenv\n",
    "dotenv.load_dotenv()"
   ]
  },
  {
   "cell_type": "markdown",
   "metadata": {},
   "source": [
    "## Load the data"
   ]
  },
  {
   "cell_type": "code",
   "execution_count": 6,
   "metadata": {},
   "outputs": [],
   "source": [
    "fatura = load_dataset(config.data.fatura)"
   ]
  },
  {
   "cell_type": "code",
   "execution_count": 7,
   "metadata": {},
   "outputs": [],
   "source": [
    "rvl_cdip = load_dataset(config.data.rvl_cdip_subset)"
   ]
  },
  {
   "cell_type": "code",
   "execution_count": 8,
   "metadata": {},
   "outputs": [],
   "source": [
    "invoiceXpert_feats = Features({\n",
    "    \"image\": Image(),\n",
    "    \"label\": ClassLabel(num_classes=2, names=[\"invoice\", \"non-invoice\"])\n",
    "})"
   ]
  },
  {
   "cell_type": "code",
   "execution_count": 9,
   "metadata": {},
   "outputs": [],
   "source": [
    "# process `rvl_cdip` dataset\n",
    "# change labels to `invoice` or `non-invoice`\n",
    "# retain only `image` and label `columns`\n",
    "def process_rvl_cdip(dataset):\n",
    "    dataset = (\n",
    "        dataset.map(\n",
    "            lambda example: {\n",
    "                \"image\": example[\"image\"].convert(\"RGB\"),\n",
    "                \"label\": 0 if example[\"label\"] == 11 else 1,\n",
    "            }\n",
    "        )\n",
    "        .select_columns([\"image\", \"label\"])\n",
    "        .cast(invoiceXpert_feats)\n",
    "    )\n",
    "    return dataset"
   ]
  },
  {
   "cell_type": "code",
   "execution_count": 10,
   "metadata": {},
   "outputs": [
    {
     "data": {
      "application/vnd.jupyter.widget-view+json": {
       "model_id": "bd6563a22b3846cea64f418ecc565a88",
       "version_major": 2,
       "version_minor": 0
      },
      "text/plain": [
       "Map:   0%|          | 0/6400 [00:00<?, ? examples/s]"
      ]
     },
     "metadata": {},
     "output_type": "display_data"
    },
    {
     "data": {
      "application/vnd.jupyter.widget-view+json": {
       "model_id": "c3757db7f29342608e70bcf7410936dc",
       "version_major": 2,
       "version_minor": 0
      },
      "text/plain": [
       "Map:   0%|          | 0/1600 [00:00<?, ? examples/s]"
      ]
     },
     "metadata": {},
     "output_type": "display_data"
    },
    {
     "data": {
      "application/vnd.jupyter.widget-view+json": {
       "model_id": "0be6dc132ac14d1db6a3637da73bf9f0",
       "version_major": 2,
       "version_minor": 0
      },
      "text/plain": [
       "Map:   0%|          | 0/1600 [00:00<?, ? examples/s]"
      ]
     },
     "metadata": {},
     "output_type": "display_data"
    },
    {
     "data": {
      "application/vnd.jupyter.widget-view+json": {
       "model_id": "82c73a83728c44fa944e5bd2da80f493",
       "version_major": 2,
       "version_minor": 0
      },
      "text/plain": [
       "Casting the dataset:   0%|          | 0/6400 [00:00<?, ? examples/s]"
      ]
     },
     "metadata": {},
     "output_type": "display_data"
    },
    {
     "data": {
      "application/vnd.jupyter.widget-view+json": {
       "model_id": "2af0036deb064639bd07544df02debf5",
       "version_major": 2,
       "version_minor": 0
      },
      "text/plain": [
       "Casting the dataset:   0%|          | 0/1600 [00:00<?, ? examples/s]"
      ]
     },
     "metadata": {},
     "output_type": "display_data"
    },
    {
     "data": {
      "application/vnd.jupyter.widget-view+json": {
       "model_id": "48daf6e3c20e419da1e591713a45ad23",
       "version_major": 2,
       "version_minor": 0
      },
      "text/plain": [
       "Casting the dataset:   0%|          | 0/1600 [00:00<?, ? examples/s]"
      ]
     },
     "metadata": {},
     "output_type": "display_data"
    }
   ],
   "source": [
    "mine_rvl_cdip = process_rvl_cdip(rvl_cdip)"
   ]
  },
  {
   "cell_type": "code",
   "execution_count": 11,
   "metadata": {},
   "outputs": [],
   "source": [
    "# process `fatura` dataset\n",
    "# change add labels (only `invoice`)\n",
    "# retain only `image` and label `columns`\n",
    "# take random ~1600 entires from `train` split and create `valid` split\n",
    "def process_fatura(dataset):\n",
    "    dataset = (\n",
    "        dataset.map(\n",
    "            lambda example: {\n",
    "                \"image\": example[\"image\"].convert(\"RGB\"),\n",
    "                \"label\": 0,\n",
    "            }\n",
    "        )\n",
    "        .select_columns([\"image\", \"label\"])\n",
    "        .cast(invoiceXpert_feats)\n",
    "    )\n",
    "    # Create random integers from 0 to len(dataset[\"train\"])\n",
    "    inds = list(range(0, len(dataset[\"train\"])))\n",
    "    random.shuffle(inds)\n",
    "    train_inds, valid_inds = inds[1600:], inds[:1600]\n",
    "    \n",
    "    \n",
    "    dataset = DatasetDict({\n",
    "        \"train\": dataset[\"train\"].select(train_inds),\n",
    "        \"validation\": dataset[\"train\"].select(valid_inds),\n",
    "        \"test\": dataset[\"test\"]\n",
    "    })\n",
    "    return dataset"
   ]
  },
  {
   "cell_type": "code",
   "execution_count": 12,
   "metadata": {},
   "outputs": [
    {
     "data": {
      "application/vnd.jupyter.widget-view+json": {
       "model_id": "afb5e40ba51844c2b5723cc9d1a9559d",
       "version_major": 2,
       "version_minor": 0
      },
      "text/plain": [
       "Map:   0%|          | 0/8600 [00:00<?, ? examples/s]"
      ]
     },
     "metadata": {},
     "output_type": "display_data"
    },
    {
     "data": {
      "application/vnd.jupyter.widget-view+json": {
       "model_id": "09a09aa8e7cb4444af1c76f9ea347f2f",
       "version_major": 2,
       "version_minor": 0
      },
      "text/plain": [
       "Map:   0%|          | 0/1400 [00:00<?, ? examples/s]"
      ]
     },
     "metadata": {},
     "output_type": "display_data"
    },
    {
     "data": {
      "application/vnd.jupyter.widget-view+json": {
       "model_id": "b02e864db60a43cbb40c4c9965fddb1e",
       "version_major": 2,
       "version_minor": 0
      },
      "text/plain": [
       "Casting the dataset:   0%|          | 0/8600 [00:00<?, ? examples/s]"
      ]
     },
     "metadata": {},
     "output_type": "display_data"
    },
    {
     "data": {
      "application/vnd.jupyter.widget-view+json": {
       "model_id": "05d01196a3124abda0606d74ca8f8309",
       "version_major": 2,
       "version_minor": 0
      },
      "text/plain": [
       "Casting the dataset:   0%|          | 0/1400 [00:00<?, ? examples/s]"
      ]
     },
     "metadata": {},
     "output_type": "display_data"
    }
   ],
   "source": [
    "mine_fatura = process_fatura(fatura)"
   ]
  },
  {
   "cell_type": "code",
   "execution_count": 13,
   "metadata": {},
   "outputs": [],
   "source": [
    "invoiceXpert = DatasetDict()\n",
    "dd_to_concat = [mine_fatura, mine_rvl_cdip]\n",
    "for key in [\"train\", \"validation\", \"test\"]:\n",
    "    invoiceXpert[key] = concatenate_datasets([ddd[key] for ddd in dd_to_concat])"
   ]
  },
  {
   "cell_type": "code",
   "execution_count": 14,
   "metadata": {},
   "outputs": [],
   "source": [
    "from collections import Counter"
   ]
  },
  {
   "cell_type": "code",
   "execution_count": 15,
   "metadata": {},
   "outputs": [
    {
     "name": "stdout",
     "output_type": "stream",
     "text": [
      "train\n",
      "Counter({0: 7400, 1: 6000})\n",
      "validation\n",
      "Counter({0: 1700, 1: 1500})\n",
      "test\n",
      "Counter({0: 1500, 1: 1500})\n"
     ]
    }
   ],
   "source": [
    "# compute statistic about `label`\n",
    "for key in [\"train\", \"validation\", \"test\"]:\n",
    "    print(key)\n",
    "    print(Counter(invoiceXpert[key][\"label\"]))"
   ]
  },
  {
   "cell_type": "code",
   "execution_count": 17,
   "metadata": {},
   "outputs": [
    {
     "data": {
      "application/vnd.jupyter.widget-view+json": {
       "model_id": "a25bb56c7da94d49827c1bcdf5529192",
       "version_major": 2,
       "version_minor": 0
      },
      "text/plain": [
       "Saving the dataset (0/5 shards):   0%|          | 0/13400 [00:00<?, ? examples/s]"
      ]
     },
     "metadata": {},
     "output_type": "display_data"
    },
    {
     "data": {
      "application/vnd.jupyter.widget-view+json": {
       "model_id": "0dc423726bc64e7f931db595b446dc8a",
       "version_major": 2,
       "version_minor": 0
      },
      "text/plain": [
       "Saving the dataset (0/2 shards):   0%|          | 0/3200 [00:00<?, ? examples/s]"
      ]
     },
     "metadata": {},
     "output_type": "display_data"
    },
    {
     "data": {
      "application/vnd.jupyter.widget-view+json": {
       "model_id": "dab257af473f4cdb8a815528a199887b",
       "version_major": 2,
       "version_minor": 0
      },
      "text/plain": [
       "Saving the dataset (0/2 shards):   0%|          | 0/3000 [00:00<?, ? examples/s]"
      ]
     },
     "metadata": {},
     "output_type": "display_data"
    }
   ],
   "source": [
    "invoiceXpert.save_to_disk(config.data.invoiceXpert.local_path)"
   ]
  },
  {
   "cell_type": "code",
   "execution_count": null,
   "metadata": {},
   "outputs": [],
   "source": [
    "# publish dataset\n",
    "#invoiceXpert.push_to_hub(repo_id=\"wiF0n/invoiceXpert\", token=os.environ[\"HF_TOKEN\"])"
   ]
  },
  {
   "cell_type": "code",
   "execution_count": null,
   "metadata": {},
   "outputs": [],
   "source": []
  }
 ],
 "metadata": {
  "kernelspec": {
   "display_name": ".venv",
   "language": "python",
   "name": "python3"
  },
  "language_info": {
   "codemirror_mode": {
    "name": "ipython",
    "version": 3
   },
   "file_extension": ".py",
   "mimetype": "text/x-python",
   "name": "python",
   "nbconvert_exporter": "python",
   "pygments_lexer": "ipython3",
   "version": "3.10.12"
  }
 },
 "nbformat": 4,
 "nbformat_minor": 2
}
