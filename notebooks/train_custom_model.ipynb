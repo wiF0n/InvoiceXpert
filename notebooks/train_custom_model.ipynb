{
 "cells": [
  {
   "cell_type": "markdown",
   "metadata": {},
   "source": [
    "# Finetune invoice classification model"
   ]
  },
  {
   "cell_type": "code",
   "execution_count": 1,
   "metadata": {},
   "outputs": [],
   "source": [
    "import numpy as np\n",
    "import mlflow\n",
    "from datasets import load_from_disk, load_dataset\n",
    "from transformers import AutoImageProcessor, AutoModelForImageClassification, Trainer, TrainingArguments\n",
    "\n",
    "from src.config import init_config\n",
    "from src.metrics import compute_metrics, cfm_metric\n",
    "from src.visuals import plot_confusion_matrix"
   ]
  },
  {
   "cell_type": "markdown",
   "metadata": {},
   "source": [
    "## Config and settings"
   ]
  },
  {
   "cell_type": "code",
   "execution_count": 2,
   "metadata": {},
   "outputs": [],
   "source": [
    "config = init_config(overrides=[\"+train=full\"])"
   ]
  },
  {
   "cell_type": "code",
   "execution_count": 3,
   "metadata": {},
   "outputs": [
    {
     "name": "stdout",
     "output_type": "stream",
     "text": [
      "data:\n",
      "  fatura: mathieu1256/FATURA2-invoices\n",
      "  rvl_cdip_subset: jinhybr/rvl_cdip_400_train_val_test\n",
      "  invoiceXpert:\n",
      "    hf_path: wiF0n/InvoiceXpert\n",
      "    local_path: data/invoiceXpert\n",
      "    num_labels: 2\n",
      "    label_col: label\n",
      "    image_col: image\n",
      "    label_names:\n",
      "    - invoice\n",
      "    - not-invoice\n",
      "models:\n",
      "  classification:\n",
      "    oob:\n",
      "      pt: microsoft/dit-base\n",
      "      ft: microsoft/dit-base-finetuned-rvlcdip\n",
      "mlflow:\n",
      "  experiments:\n",
      "    classification: invoice-classification\n",
      "utils:\n",
      "  seed: 420\n",
      "  run_date: 2024-19-02/24/24\n",
      "train:\n",
      "  output_dir: ./models/full_ft\n",
      "  overwrite_output_dir: true\n",
      "  do_train: true\n",
      "  do_eval: true\n",
      "  evaluation_strategy: steps\n",
      "  eval_steps: 100\n",
      "  num_train_epochs: 3\n",
      "  per_device_train_batch_size: 46\n",
      "  per_device_eval_batch_size: 82\n",
      "  learning_rate: 5.0e-05\n",
      "  logging_strategy: steps\n",
      "  logging_steps: 10\n",
      "  save_strategy: steps\n",
      "  save_total_limit: 1\n",
      "  bf16: true\n",
      "  dataloader_num_workers: 4\n",
      "  load_best_model_at_end: true\n",
      "  report_to: mlflow\n",
      "  remove_unused_columns: false\n",
      "\n"
     ]
    }
   ],
   "source": [
    "print(config)"
   ]
  },
  {
   "cell_type": "code",
   "execution_count": 4,
   "metadata": {},
   "outputs": [],
   "source": [
    "experiment = mlflow.set_experiment(config.mlflow.experiments.classification)"
   ]
  },
  {
   "cell_type": "markdown",
   "metadata": {},
   "source": [
    "## Load the model"
   ]
  },
  {
   "cell_type": "code",
   "execution_count": 5,
   "metadata": {},
   "outputs": [
    {
     "name": "stderr",
     "output_type": "stream",
     "text": [
      "Could not find image processor class in the image processor config or the model config. Loading based on pattern matching with the model's feature extractor configuration. Please open a PR/issue to update `preprocessor_config.json` to use `image_processor_type` instead of `feature_extractor_type`. This warning will be removed in v4.40.\n",
      "/home/david/code/InvoiceXpert/.venv/lib/python3.10/site-packages/transformers/models/beit/image_processing_beit.py:111: FutureWarning: The `reduce_labels` parameter is deprecated and will be removed in a future version. Please use `do_reduce_labels` instead.\n",
      "  warnings.warn(\n"
     ]
    }
   ],
   "source": [
    "image_processor = AutoImageProcessor.from_pretrained(config.models.classification.oob.pt)"
   ]
  },
  {
   "cell_type": "code",
   "execution_count": 6,
   "metadata": {},
   "outputs": [
    {
     "name": "stderr",
     "output_type": "stream",
     "text": [
      "Some weights of BeitForImageClassification were not initialized from the model checkpoint at microsoft/dit-base and are newly initialized: ['beit.pooler.layernorm.bias', 'beit.pooler.layernorm.weight', 'classifier.bias', 'classifier.weight']\n",
      "You should probably TRAIN this model on a down-stream task to be able to use it for predictions and inference.\n"
     ]
    }
   ],
   "source": [
    "model = AutoModelForImageClassification.from_pretrained(config.models.classification.oob.pt, num_labels=2, ignore_mismatched_sizes=True)"
   ]
  },
  {
   "cell_type": "markdown",
   "metadata": {},
   "source": [
    "## Load and preprocess the data"
   ]
  },
  {
   "cell_type": "code",
   "execution_count": 7,
   "metadata": {},
   "outputs": [],
   "source": [
    "invoice_df = load_from_disk(config.data.invoiceXpert.local_path, keep_in_memory=True)"
   ]
  },
  {
   "cell_type": "code",
   "execution_count": 8,
   "metadata": {},
   "outputs": [],
   "source": [
    "def preprocess_function(examples):\n",
    "    examples[\"pixel_values\"] = image_processor(examples[\"image\"])[\"pixel_values\"]\n",
    "    del examples[\"image\"]\n",
    "    return examples"
   ]
  },
  {
   "cell_type": "code",
   "execution_count": 9,
   "metadata": {},
   "outputs": [],
   "source": [
    "prepped_df = invoice_df.with_transform(preprocess_function)"
   ]
  },
  {
   "cell_type": "markdown",
   "metadata": {},
   "source": [
    "## Trainer"
   ]
  },
  {
   "cell_type": "code",
   "execution_count": 10,
   "metadata": {},
   "outputs": [],
   "source": [
    "training_args = TrainingArguments(**config.train)"
   ]
  },
  {
   "cell_type": "code",
   "execution_count": 11,
   "metadata": {},
   "outputs": [],
   "source": [
    "run = mlflow.start_run(experiment_id=experiment.experiment_id, run_name=\"dit-base-invoiceXpert-full-ft\")"
   ]
  },
  {
   "cell_type": "code",
   "execution_count": 12,
   "metadata": {},
   "outputs": [],
   "source": [
    "trainer = Trainer(\n",
    "    model=model,\n",
    "    args=training_args,\n",
    "    train_dataset=prepped_df[\"train\"],\n",
    "    eval_dataset=prepped_df[\"validation\"],\n",
    "    compute_metrics=compute_metrics\n",
    ")"
   ]
  },
  {
   "cell_type": "code",
   "execution_count": 13,
   "metadata": {},
   "outputs": [
    {
     "data": {
      "text/html": [
       "\n",
       "    <div>\n",
       "      \n",
       "      <progress value='876' max='876' style='width:300px; height:20px; vertical-align: middle;'></progress>\n",
       "      [876/876 06:51, Epoch 3/3]\n",
       "    </div>\n",
       "    <table border=\"1\" class=\"dataframe\">\n",
       "  <thead>\n",
       " <tr style=\"text-align: left;\">\n",
       "      <th>Step</th>\n",
       "      <th>Training Loss</th>\n",
       "      <th>Validation Loss</th>\n",
       "      <th>Accuracy</th>\n",
       "      <th>F1</th>\n",
       "      <th>Precision</th>\n",
       "      <th>Recall</th>\n",
       "    </tr>\n",
       "  </thead>\n",
       "  <tbody>\n",
       "    <tr>\n",
       "      <td>100</td>\n",
       "      <td>0.076700</td>\n",
       "      <td>0.066813</td>\n",
       "      <td>0.974688</td>\n",
       "      <td>0.973241</td>\n",
       "      <td>0.964637</td>\n",
       "      <td>0.982000</td>\n",
       "    </tr>\n",
       "    <tr>\n",
       "      <td>200</td>\n",
       "      <td>0.078200</td>\n",
       "      <td>0.059423</td>\n",
       "      <td>0.983125</td>\n",
       "      <td>0.982166</td>\n",
       "      <td>0.973168</td>\n",
       "      <td>0.991333</td>\n",
       "    </tr>\n",
       "    <tr>\n",
       "      <td>300</td>\n",
       "      <td>0.024500</td>\n",
       "      <td>0.049730</td>\n",
       "      <td>0.984375</td>\n",
       "      <td>0.983487</td>\n",
       "      <td>0.974476</td>\n",
       "      <td>0.992667</td>\n",
       "    </tr>\n",
       "    <tr>\n",
       "      <td>400</td>\n",
       "      <td>0.028400</td>\n",
       "      <td>0.048154</td>\n",
       "      <td>0.986875</td>\n",
       "      <td>0.986120</td>\n",
       "      <td>0.977720</td>\n",
       "      <td>0.994667</td>\n",
       "    </tr>\n",
       "    <tr>\n",
       "      <td>500</td>\n",
       "      <td>0.026300</td>\n",
       "      <td>0.040995</td>\n",
       "      <td>0.989062</td>\n",
       "      <td>0.988391</td>\n",
       "      <td>0.983498</td>\n",
       "      <td>0.993333</td>\n",
       "    </tr>\n",
       "    <tr>\n",
       "      <td>600</td>\n",
       "      <td>0.014900</td>\n",
       "      <td>0.044247</td>\n",
       "      <td>0.988750</td>\n",
       "      <td>0.988087</td>\n",
       "      <td>0.980946</td>\n",
       "      <td>0.995333</td>\n",
       "    </tr>\n",
       "    <tr>\n",
       "      <td>700</td>\n",
       "      <td>0.039100</td>\n",
       "      <td>0.045606</td>\n",
       "      <td>0.989062</td>\n",
       "      <td>0.988399</td>\n",
       "      <td>0.982861</td>\n",
       "      <td>0.994000</td>\n",
       "    </tr>\n",
       "    <tr>\n",
       "      <td>800</td>\n",
       "      <td>0.010900</td>\n",
       "      <td>0.047542</td>\n",
       "      <td>0.989062</td>\n",
       "      <td>0.988345</td>\n",
       "      <td>0.987359</td>\n",
       "      <td>0.989333</td>\n",
       "    </tr>\n",
       "  </tbody>\n",
       "</table><p>"
      ],
      "text/plain": [
       "<IPython.core.display.HTML object>"
      ]
     },
     "metadata": {},
     "output_type": "display_data"
    },
    {
     "name": "stderr",
     "output_type": "stream",
     "text": [
      "Checkpoint destination directory ./models/full_ft/checkpoint-500 already exists and is non-empty. Saving will proceed but saved results may be invalid.\n"
     ]
    }
   ],
   "source": [
    "trainer.train()\n",
    "trainer.save_model()"
   ]
  },
  {
   "cell_type": "code",
   "execution_count": 14,
   "metadata": {},
   "outputs": [
    {
     "data": {
      "text/html": [],
      "text/plain": [
       "<IPython.core.display.HTML object>"
      ]
     },
     "metadata": {},
     "output_type": "display_data"
    },
    {
     "data": {
      "text/plain": [
       "{'eval_loss': 0.04099544137716293,\n",
       " 'eval_accuracy': 0.9890625,\n",
       " 'eval_f1': 0.988391376451078,\n",
       " 'eval_precision': 0.9834983498349835,\n",
       " 'eval_recall': 0.9933333333333333,\n",
       " 'eval_runtime': 12.8038,\n",
       " 'eval_samples_per_second': 249.925,\n",
       " 'eval_steps_per_second': 3.124,\n",
       " 'epoch': 3.0}"
      ]
     },
     "execution_count": 14,
     "metadata": {},
     "output_type": "execute_result"
    }
   ],
   "source": [
    "trainer.evaluate()"
   ]
  },
  {
   "cell_type": "code",
   "execution_count": 15,
   "metadata": {},
   "outputs": [
    {
     "data": {
      "text/plain": [
       "{'test_loss': 0.047092825174331665,\n",
       " 'test_accuracy': 0.9856666666666667,\n",
       " 'test_f1': 0.9856809856809857,\n",
       " 'test_precision': 0.9846972721224219,\n",
       " 'test_recall': 0.9866666666666667,\n",
       " 'test_runtime': 11.8926,\n",
       " 'test_samples_per_second': 252.259,\n",
       " 'test_steps_per_second': 3.111,\n",
       " 'epoch': 3.0}"
      ]
     },
     "execution_count": 15,
     "metadata": {},
     "output_type": "execute_result"
    }
   ],
   "source": [
    "trainer.evaluate(eval_dataset=prepped_df[\"test\"], metric_key_prefix=\"test\")"
   ]
  },
  {
   "cell_type": "code",
   "execution_count": 16,
   "metadata": {},
   "outputs": [
    {
     "data": {
      "text/html": [],
      "text/plain": [
       "<IPython.core.display.HTML object>"
      ]
     },
     "metadata": {},
     "output_type": "display_data"
    }
   ],
   "source": [
    "eval_preds = trainer.predict(prepped_df[\"validation\"])\n",
    "test_preds = trainer.predict(prepped_df[\"test\"])"
   ]
  },
  {
   "cell_type": "code",
   "execution_count": 17,
   "metadata": {},
   "outputs": [],
   "source": [
    "eval_cfm = cfm_metric.compute(references=eval_preds.label_ids, predictions=np.argmax(eval_preds.predictions, axis=-1))[\"confusion_matrix\"]\n",
    "test_cfm = cfm_metric.compute(references=test_preds.label_ids, predictions=np.argmax(test_preds.predictions, axis=-1))[\"confusion_matrix\"]"
   ]
  },
  {
   "cell_type": "code",
   "execution_count": 18,
   "metadata": {},
   "outputs": [
    {
     "name": "stdout",
     "output_type": "stream",
     "text": [
      "Confusion matrix, without normalization\n",
      "[[1675   25]\n",
      " [  10 1490]]\n"
     ]
    },
    {
     "data": {
      "image/png": "[encoded data removed]",
      "text/plain": [
       "<Figure size 640x480 with 2 Axes>"
      ]
     },
     "metadata": {},
     "output_type": "display_data"
    }
   ],
   "source": [
    "eval_cfm_plot = plot_confusion_matrix(eval_cfm, classes=config.data.invoiceXpert.label_names, title=\"Validation Confusion Matrix\")"
   ]
  },
  {
   "cell_type": "code",
   "execution_count": 19,
   "metadata": {},
   "outputs": [
    {
     "name": "stdout",
     "output_type": "stream",
     "text": [
      "Confusion matrix, without normalization\n",
      "[[1477   23]\n",
      " [  20 1480]]\n"
     ]
    },
    {
     "data": {
      "image/png": "[encoded data removed]",
      "text/plain": [
       "<Figure size 640x480 with 2 Axes>"
      ]
     },
     "metadata": {},
     "output_type": "display_data"
    }
   ],
   "source": [
    "test_cfm_plot = plot_confusion_matrix(test_cfm, classes=config.data.invoiceXpert.label_names, title=\"Test Confusion Matrix\")"
   ]
  },
  {
   "cell_type": "code",
   "execution_count": 20,
   "metadata": {},
   "outputs": [],
   "source": [
    "mlflow.log_figure(eval_cfm_plot, \"validation_confusion_matrix.png\")\n",
    "mlflow.log_figure(test_cfm_plot, \"test_confusion_matrix.png\")"
   ]
  },
  {
   "cell_type": "code",
   "execution_count": 21,
   "metadata": {},
   "outputs": [],
   "source": [
    "mlflow.end_run()"
   ]
  }
 ],
 "metadata": {
  "kernelspec": {
   "display_name": ".venv",
   "language": "python",
   "name": "python3"
  },
  "language_info": {
   "codemirror_mode": {
    "name": "ipython",
    "version": 3
   },
   "file_extension": ".py",
   "mimetype": "text/x-python",
   "name": "python",
   "nbconvert_exporter": "python",
   "pygments_lexer": "ipython3",
   "version": "3.10.12"
  }
 },
 "nbformat": 4,
 "nbformat_minor": 2
}
