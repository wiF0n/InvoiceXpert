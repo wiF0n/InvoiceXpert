{
 "cells": [
  {
   "cell_type": "markdown",
   "metadata": {},
   "source": [
    "# LORA Finetune invoice classification model"
   ]
  },
  {
   "cell_type": "code",
   "execution_count": 1,
   "metadata": {},
   "outputs": [],
   "source": [
    "import numpy as np\n",
    "import torch\n",
    "import mlflow\n",
    "from datasets import load_from_disk, load_dataset\n",
    "from transformers import AutoImageProcessor, AutoModelForImageClassification, Trainer, TrainingArguments\n",
    "from peft import LoraConfig, get_peft_model\n",
    "\n",
    "from src.config import init_config, config_to_container\n",
    "from src.metrics import compute_metrics, cfm_metric\n",
    "from src.visuals import plot_confusion_matrix"
   ]
  },
  {
   "cell_type": "markdown",
   "metadata": {},
   "source": [
    "## Config and settings"
   ]
  },
  {
   "cell_type": "code",
   "execution_count": 2,
   "metadata": {},
   "outputs": [],
   "source": [
    "LORA_SIZE = \"small\""
   ]
  },
  {
   "cell_type": "code",
   "execution_count": 3,
   "metadata": {},
   "outputs": [],
   "source": [
    "config = init_config(overrides=[\"+train=LORA\", F\"+lora={LORA_SIZE}\"], resolve=True)"
   ]
  },
  {
   "cell_type": "code",
   "execution_count": 4,
   "metadata": {},
   "outputs": [
    {
     "name": "stdout",
     "output_type": "stream",
     "text": [
      "data:\n",
      "  fatura: mathieu1256/FATURA2-invoices\n",
      "  rvl_cdip_subset: jinhybr/rvl_cdip_400_train_val_test\n",
      "  invoiceXpert:\n",
      "    hf_path: wiF0n/InvoiceXpert\n",
      "    local_path: data/invoiceXpert\n",
      "    num_labels: 2\n",
      "    label_col: label\n",
      "    image_col: image\n",
      "    label_names:\n",
      "    - invoice\n",
      "    - not-invoice\n",
      "models:\n",
      "  classification:\n",
      "    oob:\n",
      "      pt: microsoft/dit-base\n",
      "      ft: microsoft/dit-base-finetuned-rvlcdip\n",
      "mlflow:\n",
      "  experiments:\n",
      "    classification: invoice-classification\n",
      "utils:\n",
      "  seed: 420\n",
      "  run_date: 2024-17-02/24/24\n",
      "train:\n",
      "  output_dir: ./models/LORA_ft\n",
      "  overwrite_output_dir: true\n",
      "  do_train: true\n",
      "  do_eval: true\n",
      "  evaluation_strategy: steps\n",
      "  eval_steps: 50\n",
      "  num_train_epochs: 3\n",
      "  per_device_train_batch_size: 64\n",
      "  per_device_eval_batch_size: 64\n",
      "  learning_rate: 5.0e-05\n",
      "  logging_strategy: steps\n",
      "  logging_steps: 5\n",
      "  save_strategy: steps\n",
      "  save_total_limit: 1\n",
      "  bf16: true\n",
      "  dataloader_num_workers: 4\n",
      "  load_best_model_at_end: true\n",
      "  report_to: mlflow\n",
      "  remove_unused_columns: false\n",
      "  label_names:\n",
      "  - labels\n",
      "lora:\n",
      "  r: 32\n",
      "  lora_alpha: 32\n",
      "  target_modules:\n",
      "  - query\n",
      "  - value\n",
      "  lora_dropout: 0.1\n",
      "  bias: none\n",
      "  modules_to_save:\n",
      "  - classifier\n",
      "\n"
     ]
    }
   ],
   "source": [
    "print(config)"
   ]
  },
  {
   "cell_type": "code",
   "execution_count": null,
   "metadata": {},
   "outputs": [],
   "source": []
  },
  {
   "cell_type": "code",
   "execution_count": 5,
   "metadata": {},
   "outputs": [],
   "source": [
    "experiment = mlflow.set_experiment(config.mlflow.experiments.classification)"
   ]
  },
  {
   "cell_type": "markdown",
   "metadata": {},
   "source": [
    "## Load the model"
   ]
  },
  {
   "cell_type": "code",
   "execution_count": 6,
   "metadata": {},
   "outputs": [
    {
     "name": "stderr",
     "output_type": "stream",
     "text": [
      "Could not find image processor class in the image processor config or the model config. Loading based on pattern matching with the model's feature extractor configuration. Please open a PR/issue to update `preprocessor_config.json` to use `image_processor_type` instead of `feature_extractor_type`. This warning will be removed in v4.40.\n",
      "/home/david/code/InvoiceXpert/.venv/lib/python3.10/site-packages/transformers/models/beit/image_processing_beit.py:111: FutureWarning: The `reduce_labels` parameter is deprecated and will be removed in a future version. Please use `do_reduce_labels` instead.\n",
      "  warnings.warn(\n"
     ]
    }
   ],
   "source": [
    "image_processor = AutoImageProcessor.from_pretrained(config.models.classification.oob.pt)"
   ]
  },
  {
   "cell_type": "code",
   "execution_count": 7,
   "metadata": {},
   "outputs": [
    {
     "name": "stderr",
     "output_type": "stream",
     "text": [
      "Some weights of BeitForImageClassification were not initialized from the model checkpoint at microsoft/dit-base and are newly initialized: ['beit.pooler.layernorm.bias', 'beit.pooler.layernorm.weight', 'classifier.bias', 'classifier.weight']\n",
      "You should probably TRAIN this model on a down-stream task to be able to use it for predictions and inference.\n"
     ]
    }
   ],
   "source": [
    "model = AutoModelForImageClassification.from_pretrained(config.models.classification.oob.pt, num_labels=2, ignore_mismatched_sizes=True)\n",
    "lora_config = LoraConfig(\n",
    "    **config_to_container(config.lora)\n",
    ")\n",
    "model = get_peft_model(model, lora_config)"
   ]
  },
  {
   "cell_type": "code",
   "execution_count": 8,
   "metadata": {},
   "outputs": [],
   "source": [
    "num_trainable_params, num_all_params = model.get_nb_trainable_parameters()\n",
    "model_params_dict = {\n",
    "    \"num_trainable_model_params\": num_trainable_params,\n",
    "    \"num_all_model_params\": num_all_params,\n",
    "    \"pct_trainable_model_params\": 100*(num_trainable_params / num_all_params)\n",
    "}"
   ]
  },
  {
   "cell_type": "code",
   "execution_count": 9,
   "metadata": {},
   "outputs": [
    {
     "name": "stdout",
     "output_type": "stream",
     "text": [
      "All parameters: 86991364\n",
      "Trainable parameters: 1181186\n",
      "Percentage of trainable parameters: 1.3578198405993496\n"
     ]
    }
   ],
   "source": [
    "print(\"All parameters:\", model_params_dict[\"num_all_model_params\"])\n",
    "print(\"Trainable parameters:\", model_params_dict[\"num_trainable_model_params\"])\n",
    "print(\"Percentage of trainable parameters:\", model_params_dict[\"pct_trainable_model_params\"])"
   ]
  },
  {
   "cell_type": "markdown",
   "metadata": {},
   "source": [
    "## Load and preprocess the data"
   ]
  },
  {
   "cell_type": "code",
   "execution_count": 10,
   "metadata": {},
   "outputs": [],
   "source": [
    "invoice_df = load_from_disk(config.data.invoiceXpert.local_path, keep_in_memory=True)"
   ]
  },
  {
   "cell_type": "code",
   "execution_count": 11,
   "metadata": {},
   "outputs": [],
   "source": [
    "def preprocess_function(examples):\n",
    "    examples[\"pixel_values\"] = image_processor(examples[\"image\"], return_tensors=\"pt\")[\"pixel_values\"]\n",
    "    del examples[\"image\"]\n",
    "    return examples"
   ]
  },
  {
   "cell_type": "code",
   "execution_count": 12,
   "metadata": {},
   "outputs": [],
   "source": [
    "prepped_df = invoice_df.with_transform(preprocess_function)"
   ]
  },
  {
   "cell_type": "code",
   "execution_count": 13,
   "metadata": {},
   "outputs": [],
   "source": [
    "def collate_fn(examples):\n",
    "    pixel_values = torch.stack([example[\"pixel_values\"] for example in examples])\n",
    "    labels = torch.tensor([example[\"label\"] for example in examples])\n",
    "    return {\"pixel_values\": pixel_values, \"labels\": labels}"
   ]
  },
  {
   "cell_type": "markdown",
   "metadata": {},
   "source": [
    "## Trainer"
   ]
  },
  {
   "cell_type": "code",
   "execution_count": 14,
   "metadata": {},
   "outputs": [],
   "source": [
    "training_args = TrainingArguments(**config_to_container(config.train))"
   ]
  },
  {
   "cell_type": "code",
   "execution_count": 15,
   "metadata": {},
   "outputs": [],
   "source": [
    "run = mlflow.start_run(experiment_id=experiment.experiment_id, run_name=F\"dit-base-invoiceXpert-LORA-{LORA_SIZE}-ft\")"
   ]
  },
  {
   "cell_type": "code",
   "execution_count": 16,
   "metadata": {},
   "outputs": [],
   "source": [
    "mlflow.log_params(model_params_dict)"
   ]
  },
  {
   "cell_type": "code",
   "execution_count": 17,
   "metadata": {},
   "outputs": [],
   "source": [
    "trainer = Trainer(\n",
    "    model=model,\n",
    "    args=training_args,\n",
    "    train_dataset=prepped_df[\"train\"],\n",
    "    eval_dataset=prepped_df[\"validation\"],\n",
    "    compute_metrics=compute_metrics,\n",
    "    # Has to create collate function with PEFT\n",
    "    # and add `label_names` to the training arguments\n",
    "    data_collator=collate_fn,\n",
    ")"
   ]
  },
  {
   "cell_type": "code",
   "execution_count": 18,
   "metadata": {},
   "outputs": [
    {
     "data": {
      "text/html": [
       "\n",
       "    <div>\n",
       "      \n",
       "      <progress value='630' max='630' style='width:300px; height:20px; vertical-align: middle;'></progress>\n",
       "      [630/630 06:40, Epoch 3/3]\n",
       "    </div>\n",
       "    <table border=\"1\" class=\"dataframe\">\n",
       "  <thead>\n",
       " <tr style=\"text-align: left;\">\n",
       "      <th>Step</th>\n",
       "      <th>Training Loss</th>\n",
       "      <th>Validation Loss</th>\n",
       "      <th>Accuracy</th>\n",
       "      <th>F1</th>\n",
       "      <th>Precision</th>\n",
       "      <th>Recall</th>\n",
       "    </tr>\n",
       "  </thead>\n",
       "  <tbody>\n",
       "    <tr>\n",
       "      <td>50</td>\n",
       "      <td>0.611500</td>\n",
       "      <td>0.581087</td>\n",
       "      <td>0.619687</td>\n",
       "      <td>0.324264</td>\n",
       "      <td>0.970100</td>\n",
       "      <td>0.194667</td>\n",
       "    </tr>\n",
       "    <tr>\n",
       "      <td>100</td>\n",
       "      <td>0.455100</td>\n",
       "      <td>0.393937</td>\n",
       "      <td>0.778750</td>\n",
       "      <td>0.698210</td>\n",
       "      <td>0.968085</td>\n",
       "      <td>0.546000</td>\n",
       "    </tr>\n",
       "    <tr>\n",
       "      <td>150</td>\n",
       "      <td>0.262000</td>\n",
       "      <td>0.197553</td>\n",
       "      <td>0.953750</td>\n",
       "      <td>0.950961</td>\n",
       "      <td>0.945323</td>\n",
       "      <td>0.956667</td>\n",
       "    </tr>\n",
       "    <tr>\n",
       "      <td>200</td>\n",
       "      <td>0.117400</td>\n",
       "      <td>0.109326</td>\n",
       "      <td>0.965625</td>\n",
       "      <td>0.964332</td>\n",
       "      <td>0.938763</td>\n",
       "      <td>0.991333</td>\n",
       "    </tr>\n",
       "    <tr>\n",
       "      <td>250</td>\n",
       "      <td>0.127200</td>\n",
       "      <td>0.101772</td>\n",
       "      <td>0.968125</td>\n",
       "      <td>0.966926</td>\n",
       "      <td>0.941288</td>\n",
       "      <td>0.994000</td>\n",
       "    </tr>\n",
       "    <tr>\n",
       "      <td>300</td>\n",
       "      <td>0.099400</td>\n",
       "      <td>0.099167</td>\n",
       "      <td>0.968125</td>\n",
       "      <td>0.966840</td>\n",
       "      <td>0.943528</td>\n",
       "      <td>0.991333</td>\n",
       "    </tr>\n",
       "    <tr>\n",
       "      <td>350</td>\n",
       "      <td>0.099000</td>\n",
       "      <td>0.098349</td>\n",
       "      <td>0.968125</td>\n",
       "      <td>0.966775</td>\n",
       "      <td>0.945223</td>\n",
       "      <td>0.989333</td>\n",
       "    </tr>\n",
       "    <tr>\n",
       "      <td>400</td>\n",
       "      <td>0.131700</td>\n",
       "      <td>0.097623</td>\n",
       "      <td>0.969375</td>\n",
       "      <td>0.968161</td>\n",
       "      <td>0.944233</td>\n",
       "      <td>0.993333</td>\n",
       "    </tr>\n",
       "    <tr>\n",
       "      <td>450</td>\n",
       "      <td>0.115900</td>\n",
       "      <td>0.097190</td>\n",
       "      <td>0.970000</td>\n",
       "      <td>0.968831</td>\n",
       "      <td>0.944304</td>\n",
       "      <td>0.994667</td>\n",
       "    </tr>\n",
       "    <tr>\n",
       "      <td>500</td>\n",
       "      <td>0.131600</td>\n",
       "      <td>0.096930</td>\n",
       "      <td>0.970000</td>\n",
       "      <td>0.968851</td>\n",
       "      <td>0.943742</td>\n",
       "      <td>0.995333</td>\n",
       "    </tr>\n",
       "    <tr>\n",
       "      <td>550</td>\n",
       "      <td>0.075300</td>\n",
       "      <td>0.095570</td>\n",
       "      <td>0.970000</td>\n",
       "      <td>0.968831</td>\n",
       "      <td>0.944304</td>\n",
       "      <td>0.994667</td>\n",
       "    </tr>\n",
       "    <tr>\n",
       "      <td>600</td>\n",
       "      <td>0.084800</td>\n",
       "      <td>0.094822</td>\n",
       "      <td>0.970000</td>\n",
       "      <td>0.968831</td>\n",
       "      <td>0.944304</td>\n",
       "      <td>0.994667</td>\n",
       "    </tr>\n",
       "  </tbody>\n",
       "</table><p>"
      ],
      "text/plain": [
       "<IPython.core.display.HTML object>"
      ]
     },
     "metadata": {},
     "output_type": "display_data"
    },
    {
     "name": "stderr",
     "output_type": "stream",
     "text": [
      "Checkpoint destination directory ./models/LORA_ft/checkpoint-500 already exists and is non-empty. Saving will proceed but saved results may be invalid.\n"
     ]
    }
   ],
   "source": [
    "trainer.train()\n",
    "trainer.save_model()"
   ]
  },
  {
   "cell_type": "code",
   "execution_count": 19,
   "metadata": {},
   "outputs": [
    {
     "data": {
      "text/html": [],
      "text/plain": [
       "<IPython.core.display.HTML object>"
      ]
     },
     "metadata": {},
     "output_type": "display_data"
    },
    {
     "data": {
      "text/plain": [
       "{'eval_loss': 0.09692972153425217,\n",
       " 'eval_accuracy': 0.97,\n",
       " 'eval_f1': 0.9688513951979234,\n",
       " 'eval_precision': 0.9437420986093552,\n",
       " 'eval_recall': 0.9953333333333333,\n",
       " 'eval_runtime': 13.3816,\n",
       " 'eval_samples_per_second': 239.134,\n",
       " 'eval_steps_per_second': 3.736,\n",
       " 'epoch': 3.0}"
      ]
     },
     "execution_count": 19,
     "metadata": {},
     "output_type": "execute_result"
    }
   ],
   "source": [
    "trainer.evaluate()"
   ]
  },
  {
   "cell_type": "code",
   "execution_count": 20,
   "metadata": {},
   "outputs": [
    {
     "data": {
      "text/plain": [
       "{'test_loss': 0.1017579585313797,\n",
       " 'test_accuracy': 0.9656666666666667,\n",
       " 'test_f1': 0.966612641815235,\n",
       " 'test_precision': 0.9406940063091482,\n",
       " 'test_recall': 0.994,\n",
       " 'test_runtime': 12.9673,\n",
       " 'test_samples_per_second': 231.351,\n",
       " 'test_steps_per_second': 3.625,\n",
       " 'epoch': 3.0}"
      ]
     },
     "execution_count": 20,
     "metadata": {},
     "output_type": "execute_result"
    }
   ],
   "source": [
    "trainer.evaluate(eval_dataset=prepped_df[\"test\"], metric_key_prefix=\"test\")"
   ]
  },
  {
   "cell_type": "code",
   "execution_count": 21,
   "metadata": {},
   "outputs": [
    {
     "data": {
      "text/html": [],
      "text/plain": [
       "<IPython.core.display.HTML object>"
      ]
     },
     "metadata": {},
     "output_type": "display_data"
    }
   ],
   "source": [
    "eval_preds = trainer.predict(prepped_df[\"validation\"])\n",
    "test_preds = trainer.predict(prepped_df[\"test\"])"
   ]
  },
  {
   "cell_type": "code",
   "execution_count": 22,
   "metadata": {},
   "outputs": [],
   "source": [
    "eval_cfm = cfm_metric.compute(references=eval_preds.label_ids, predictions=np.argmax(eval_preds.predictions, axis=-1))[\"confusion_matrix\"]\n",
    "test_cfm = cfm_metric.compute(references=test_preds.label_ids, predictions=np.argmax(test_preds.predictions, axis=-1))[\"confusion_matrix\"]"
   ]
  },
  {
   "cell_type": "code",
   "execution_count": 23,
   "metadata": {},
   "outputs": [
    {
     "name": "stdout",
     "output_type": "stream",
     "text": [
      "Confusion matrix, without normalization\n",
      "[[1611   89]\n",
      " [   7 1493]]\n"
     ]
    },
    {
     "data": {
      "image/png": "[encoded data removed]",
      "text/plain": [
       "<Figure size 640x480 with 2 Axes>"
      ]
     },
     "metadata": {},
     "output_type": "display_data"
    }
   ],
   "source": [
    "eval_cfm_plot = plot_confusion_matrix(eval_cfm, classes=config.data.invoiceXpert.label_names, title=\"Validation Confusion Matrix\")"
   ]
  },
  {
   "cell_type": "code",
   "execution_count": 24,
   "metadata": {},
   "outputs": [
    {
     "name": "stdout",
     "output_type": "stream",
     "text": [
      "Confusion matrix, without normalization\n",
      "[[1406   94]\n",
      " [   9 1491]]\n"
     ]
    },
    {
     "data": {
      "image/png": "[encoded data removed]",
      "text/plain": [
       "<Figure size 640x480 with 2 Axes>"
      ]
     },
     "metadata": {},
     "output_type": "display_data"
    }
   ],
   "source": [
    "test_cfm_plot = plot_confusion_matrix(test_cfm, classes=config.data.invoiceXpert.label_names, title=\"Test Confusion Matrix\")"
   ]
  },
  {
   "cell_type": "code",
   "execution_count": 25,
   "metadata": {},
   "outputs": [],
   "source": [
    "mlflow.log_figure(eval_cfm_plot, \"validation_confusion_matrix.png\")\n",
    "mlflow.log_figure(test_cfm_plot, \"test_confusion_matrix.png\")"
   ]
  },
  {
   "cell_type": "code",
   "execution_count": 26,
   "metadata": {},
   "outputs": [],
   "source": [
    "mlflow.end_run()"
   ]
  },
  {
   "cell_type": "code",
   "execution_count": null,
   "metadata": {},
   "outputs": [],
   "source": []
  }
 ],
 "metadata": {
  "kernelspec": {
   "display_name": ".venv",
   "language": "python",
   "name": "python3"
  },
  "language_info": {
   "codemirror_mode": {
    "name": "ipython",
    "version": 3
   },
   "file_extension": ".py",
   "mimetype": "text/x-python",
   "name": "python",
   "nbconvert_exporter": "python",
   "pygments_lexer": "ipython3",
   "version": "3.10.12"
  }
 },
 "nbformat": 4,
 "nbformat_minor": 2
}
